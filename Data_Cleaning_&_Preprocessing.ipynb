{
 "cells": [
  {
   "cell_type": "code",
   "execution_count": 2,
   "id": "66bac4cc",
   "metadata": {},
   "outputs": [],
   "source": [
    "import pandas as pd\n",
    "import csv\n",
    "\n",
    "# Load the dataset\n",
    "df = pd.read_csv('online_retail.csv')\n",
    "\n",
    "# Remove missing customers\n",
    "df = df.dropna(subset=['Customer ID'])\n",
    "\n",
    "# Convert 'Customer Id' to integer\n",
    "df['Customer ID'] = df['Customer ID'].astype(int)\n",
    "\n",
    "# Remove canceled orders\n",
    "df = df[~df['Invoice'].str.startswith('C')]\n",
    "\n",
    "# Remove rows where item price was '0'\n",
    "df = df[df['Price'] > 0]\n",
    "\n",
    "# Remove non-product stock codes\n",
    "# List of non-product codes\n",
    "non_product_codes = ['POST', 'DOT', 'ADJUST', 'C2', 'M', 'BANK CHARGES']\n",
    "\n",
    "# Keep only rows where StockCode is NOT in the list\n",
    "df = df[~df['StockCode'].isin(non_product_codes)]\n",
    "\n",
    "# Create 'TotalPrice' column\n",
    "df['TotalPrice'] = df['Quantity'] * df['Price']\n",
    "\n",
    "# Convert 'InvoiceDate' to datetime\n",
    "df['InvoiceDate'] = pd.to_datetime(df['InvoiceDate'])\n",
    "\n",
    "# Extract Year, Month, DayOfWeek, Hour:\n",
    "df['Year'] = df['InvoiceDate'].dt.year\n",
    "df['Month'] = df['InvoiceDate'].dt.month\n",
    "df['DayOfWeek'] = df['InvoiceDate'].dt.dayofweek\n",
    "df['Hour'] = df['InvoiceDate'].dt.hour\n",
    "\n",
    "# Save the cleaned dataset to a new CSV file\n",
    "df.to_csv('online_retail_cleaned.csv', index=False)"
   ]
  }
 ],
 "metadata": {
  "kernelspec": {
   "display_name": "Python 3",
   "language": "python",
   "name": "python3"
  },
  "language_info": {
   "codemirror_mode": {
    "name": "ipython",
    "version": 3
   },
   "file_extension": ".py",
   "mimetype": "text/x-python",
   "name": "python",
   "nbconvert_exporter": "python",
   "pygments_lexer": "ipython3",
   "version": "3.13.3"
  }
 },
 "nbformat": 4,
 "nbformat_minor": 5
}
