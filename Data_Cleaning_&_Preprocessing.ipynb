{
 "cells": [
  {
   "cell_type": "code",
   "execution_count": 4,
   "id": "335006d9",
   "metadata": {},
   "outputs": [
    {
     "name": "stdout",
     "output_type": "stream",
     "text": [
      "<class 'pandas.core.frame.DataFrame'>\n",
      "Index: 802669 entries, 0 to 1067369\n",
      "Data columns (total 13 columns):\n",
      " #   Column       Non-Null Count   Dtype         \n",
      "---  ------       --------------   -----         \n",
      " 0   Invoice      802669 non-null  object        \n",
      " 1   StockCode    802669 non-null  object        \n",
      " 2   Description  802669 non-null  object        \n",
      " 3   Quantity     802669 non-null  int64         \n",
      " 4   InvoiceDate  802669 non-null  datetime64[ns]\n",
      " 5   Price        802669 non-null  float64       \n",
      " 6   Customer ID  802669 non-null  int64         \n",
      " 7   Country      802669 non-null  object        \n",
      " 8   TotalPrice   802669 non-null  float64       \n",
      " 9   Year         802669 non-null  int32         \n",
      " 10  Month        802669 non-null  int32         \n",
      " 11  DayOfWeek    802669 non-null  int32         \n",
      " 12  Hour         802669 non-null  int32         \n",
      "dtypes: datetime64[ns](1), float64(2), int32(4), int64(2), object(4)\n",
      "memory usage: 73.5+ MB\n"
     ]
    }
   ],
   "source": [
    "import pandas as pd\n",
    "import csv\n",
    "\n",
    "# Read the CSV file\n",
    "df = pd.read_csv('online_retail.csv')\n",
    "\n",
    "# Remove missing customers\n",
    "df = df.dropna(subset=['Customer ID'])\n",
    "\n",
    "# Convert 'Customer Id' to integer\n",
    "df['Customer ID'] = df['Customer ID'].astype(int)\n",
    "\n",
    "# Remove canceled orders\n",
    "df = df[~df['Invoice'].str.startswith('C')]\n",
    "\n",
    "# Remove rows where item price was '0'\n",
    "df = df[df['Price'] > 0]\n",
    "\n",
    "# Remove non-product stock codes\n",
    "# List of non-product codes\n",
    "non_product_codes = ['POST', 'DOT', 'ADJUST', 'C2', 'M', 'BANK CHARGES']\n",
    "\n",
    "# Keep only rows where StockCode is NOT in the list\n",
    "df = df[~df['StockCode'].isin(non_product_codes)]\n",
    "\n",
    "# Create 'TotalPrice' column\n",
    "df['TotalPrice'] = df['Quantity'] * df['Price']\n",
    "\n",
    "# Check the new column for first few rows\n",
    "df[['Quantity', 'Price', 'TotalPrice']].head()\n",
    "\n",
    "# Convert 'InvoiceDate' to datetime\n",
    "df['InvoiceDate'] = pd.to_datetime(df['InvoiceDate'])\n",
    "\n",
    "# Extract Year, Month, DayOfWeek, Hour:\n",
    "df['Year'] = df['InvoiceDate'].dt.year\n",
    "df['Month'] = df['InvoiceDate'].dt.month\n",
    "df['DayOfWeek'] = df['InvoiceDate'].dt.dayofweek\n",
    "df['Hour'] = df['InvoiceDate'].dt.hour\n",
    "\n",
    "# Check the extracted values\n",
    "df[['InvoiceDate','Year', 'Month', 'DayOfWeek', 'Hour']].head()\n",
    "\n",
    "# Finally check the dataset \n",
    "df.info() \n",
    "df.isnull().sum()\n",
    "\n",
    "# Save the cleaned dataset to a new CSV file\n",
    "df.to_csv('online_retail_cleaned.csv', index=False)"
   ]
  }
 ],
 "metadata": {
  "kernelspec": {
   "display_name": "Python 3",
   "language": "python",
   "name": "python3"
  },
  "language_info": {
   "codemirror_mode": {
    "name": "ipython",
    "version": 3
   },
   "file_extension": ".py",
   "mimetype": "text/x-python",
   "name": "python",
   "nbconvert_exporter": "python",
   "pygments_lexer": "ipython3",
   "version": "3.12.4"
  }
 },
 "nbformat": 4,
 "nbformat_minor": 5
}
